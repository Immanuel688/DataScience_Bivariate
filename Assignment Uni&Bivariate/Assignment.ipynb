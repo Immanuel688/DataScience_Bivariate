{
 "cells": [
  {
   "cell_type": "code",
   "execution_count": 1,
   "id": "ed09a811-65ff-418e-8d0e-4d5530f59685",
   "metadata": {},
   "outputs": [],
   "source": [
    "import pandas as pd\n",
    "import seaborn as sns"
   ]
  },
  {
   "cell_type": "code",
   "execution_count": 2,
   "id": "22ca6dbd-864b-426d-bffc-618d47d76297",
   "metadata": {},
   "outputs": [],
   "source": [
    "dataset= pd.read_csv(\"Preprocessed_PlacementInput.csv\")"
   ]
  },
  {
   "cell_type": "code",
   "execution_count": 3,
   "id": "a6c0730e-436c-46c4-ae37-dfc8f4dfc7ac",
   "metadata": {},
   "outputs": [
    {
     "data": {
      "text/html": [
       "<div>\n",
       "<style scoped>\n",
       "    .dataframe tbody tr th:only-of-type {\n",
       "        vertical-align: middle;\n",
       "    }\n",
       "\n",
       "    .dataframe tbody tr th {\n",
       "        vertical-align: top;\n",
       "    }\n",
       "\n",
       "    .dataframe thead th {\n",
       "        text-align: right;\n",
       "    }\n",
       "</style>\n",
       "<table border=\"1\" class=\"dataframe\">\n",
       "  <thead>\n",
       "    <tr style=\"text-align: right;\">\n",
       "      <th></th>\n",
       "      <th>sl_no</th>\n",
       "      <th>ssc_p</th>\n",
       "      <th>hsc_p</th>\n",
       "      <th>degree_p</th>\n",
       "      <th>etest_p</th>\n",
       "      <th>mba_p</th>\n",
       "      <th>salary</th>\n",
       "      <th>gender</th>\n",
       "      <th>ssc_b</th>\n",
       "      <th>hsc_b</th>\n",
       "      <th>hsc_s</th>\n",
       "      <th>degree_t</th>\n",
       "      <th>workex</th>\n",
       "      <th>specialisation</th>\n",
       "      <th>status</th>\n",
       "    </tr>\n",
       "  </thead>\n",
       "  <tbody>\n",
       "    <tr>\n",
       "      <th>0</th>\n",
       "      <td>1.0</td>\n",
       "      <td>67.00</td>\n",
       "      <td>91.00</td>\n",
       "      <td>58.00</td>\n",
       "      <td>55.0</td>\n",
       "      <td>58.80</td>\n",
       "      <td>270000.0</td>\n",
       "      <td>M</td>\n",
       "      <td>Others</td>\n",
       "      <td>Others</td>\n",
       "      <td>Commerce</td>\n",
       "      <td>Sci&amp;Tech</td>\n",
       "      <td>No</td>\n",
       "      <td>Mkt&amp;HR</td>\n",
       "      <td>Placed</td>\n",
       "    </tr>\n",
       "    <tr>\n",
       "      <th>1</th>\n",
       "      <td>2.0</td>\n",
       "      <td>79.33</td>\n",
       "      <td>78.33</td>\n",
       "      <td>77.48</td>\n",
       "      <td>86.5</td>\n",
       "      <td>66.28</td>\n",
       "      <td>200000.0</td>\n",
       "      <td>M</td>\n",
       "      <td>Central</td>\n",
       "      <td>Others</td>\n",
       "      <td>Science</td>\n",
       "      <td>Sci&amp;Tech</td>\n",
       "      <td>Yes</td>\n",
       "      <td>Mkt&amp;Fin</td>\n",
       "      <td>Placed</td>\n",
       "    </tr>\n",
       "    <tr>\n",
       "      <th>2</th>\n",
       "      <td>3.0</td>\n",
       "      <td>65.00</td>\n",
       "      <td>68.00</td>\n",
       "      <td>64.00</td>\n",
       "      <td>75.0</td>\n",
       "      <td>57.80</td>\n",
       "      <td>250000.0</td>\n",
       "      <td>M</td>\n",
       "      <td>Central</td>\n",
       "      <td>Central</td>\n",
       "      <td>Arts</td>\n",
       "      <td>Comm&amp;Mgmt</td>\n",
       "      <td>No</td>\n",
       "      <td>Mkt&amp;Fin</td>\n",
       "      <td>Placed</td>\n",
       "    </tr>\n",
       "    <tr>\n",
       "      <th>3</th>\n",
       "      <td>4.0</td>\n",
       "      <td>56.00</td>\n",
       "      <td>52.00</td>\n",
       "      <td>52.00</td>\n",
       "      <td>66.0</td>\n",
       "      <td>59.43</td>\n",
       "      <td>0.0</td>\n",
       "      <td>M</td>\n",
       "      <td>Central</td>\n",
       "      <td>Central</td>\n",
       "      <td>Science</td>\n",
       "      <td>Sci&amp;Tech</td>\n",
       "      <td>No</td>\n",
       "      <td>Mkt&amp;HR</td>\n",
       "      <td>Not Placed</td>\n",
       "    </tr>\n",
       "    <tr>\n",
       "      <th>4</th>\n",
       "      <td>5.0</td>\n",
       "      <td>85.80</td>\n",
       "      <td>73.60</td>\n",
       "      <td>73.30</td>\n",
       "      <td>96.8</td>\n",
       "      <td>55.50</td>\n",
       "      <td>425000.0</td>\n",
       "      <td>M</td>\n",
       "      <td>Central</td>\n",
       "      <td>Central</td>\n",
       "      <td>Commerce</td>\n",
       "      <td>Comm&amp;Mgmt</td>\n",
       "      <td>No</td>\n",
       "      <td>Mkt&amp;Fin</td>\n",
       "      <td>Placed</td>\n",
       "    </tr>\n",
       "    <tr>\n",
       "      <th>...</th>\n",
       "      <td>...</td>\n",
       "      <td>...</td>\n",
       "      <td>...</td>\n",
       "      <td>...</td>\n",
       "      <td>...</td>\n",
       "      <td>...</td>\n",
       "      <td>...</td>\n",
       "      <td>...</td>\n",
       "      <td>...</td>\n",
       "      <td>...</td>\n",
       "      <td>...</td>\n",
       "      <td>...</td>\n",
       "      <td>...</td>\n",
       "      <td>...</td>\n",
       "      <td>...</td>\n",
       "    </tr>\n",
       "    <tr>\n",
       "      <th>210</th>\n",
       "      <td>211.0</td>\n",
       "      <td>80.60</td>\n",
       "      <td>82.00</td>\n",
       "      <td>77.60</td>\n",
       "      <td>91.0</td>\n",
       "      <td>74.49</td>\n",
       "      <td>400000.0</td>\n",
       "      <td>M</td>\n",
       "      <td>Others</td>\n",
       "      <td>Others</td>\n",
       "      <td>Commerce</td>\n",
       "      <td>Comm&amp;Mgmt</td>\n",
       "      <td>No</td>\n",
       "      <td>Mkt&amp;Fin</td>\n",
       "      <td>Placed</td>\n",
       "    </tr>\n",
       "    <tr>\n",
       "      <th>211</th>\n",
       "      <td>212.0</td>\n",
       "      <td>58.00</td>\n",
       "      <td>60.00</td>\n",
       "      <td>72.00</td>\n",
       "      <td>74.0</td>\n",
       "      <td>53.62</td>\n",
       "      <td>275000.0</td>\n",
       "      <td>M</td>\n",
       "      <td>Others</td>\n",
       "      <td>Others</td>\n",
       "      <td>Science</td>\n",
       "      <td>Sci&amp;Tech</td>\n",
       "      <td>No</td>\n",
       "      <td>Mkt&amp;Fin</td>\n",
       "      <td>Placed</td>\n",
       "    </tr>\n",
       "    <tr>\n",
       "      <th>212</th>\n",
       "      <td>213.0</td>\n",
       "      <td>67.00</td>\n",
       "      <td>67.00</td>\n",
       "      <td>73.00</td>\n",
       "      <td>59.0</td>\n",
       "      <td>69.72</td>\n",
       "      <td>295000.0</td>\n",
       "      <td>M</td>\n",
       "      <td>Others</td>\n",
       "      <td>Others</td>\n",
       "      <td>Commerce</td>\n",
       "      <td>Comm&amp;Mgmt</td>\n",
       "      <td>Yes</td>\n",
       "      <td>Mkt&amp;Fin</td>\n",
       "      <td>Placed</td>\n",
       "    </tr>\n",
       "    <tr>\n",
       "      <th>213</th>\n",
       "      <td>214.0</td>\n",
       "      <td>74.00</td>\n",
       "      <td>66.00</td>\n",
       "      <td>58.00</td>\n",
       "      <td>70.0</td>\n",
       "      <td>60.23</td>\n",
       "      <td>204000.0</td>\n",
       "      <td>F</td>\n",
       "      <td>Others</td>\n",
       "      <td>Others</td>\n",
       "      <td>Commerce</td>\n",
       "      <td>Comm&amp;Mgmt</td>\n",
       "      <td>No</td>\n",
       "      <td>Mkt&amp;HR</td>\n",
       "      <td>Placed</td>\n",
       "    </tr>\n",
       "    <tr>\n",
       "      <th>214</th>\n",
       "      <td>215.0</td>\n",
       "      <td>62.00</td>\n",
       "      <td>58.00</td>\n",
       "      <td>53.00</td>\n",
       "      <td>89.0</td>\n",
       "      <td>60.22</td>\n",
       "      <td>0.0</td>\n",
       "      <td>M</td>\n",
       "      <td>Central</td>\n",
       "      <td>Others</td>\n",
       "      <td>Science</td>\n",
       "      <td>Comm&amp;Mgmt</td>\n",
       "      <td>No</td>\n",
       "      <td>Mkt&amp;HR</td>\n",
       "      <td>Not Placed</td>\n",
       "    </tr>\n",
       "  </tbody>\n",
       "</table>\n",
       "<p>215 rows × 15 columns</p>\n",
       "</div>"
      ],
      "text/plain": [
       "     sl_no  ssc_p  hsc_p  degree_p  etest_p  mba_p    salary gender    ssc_b  \\\n",
       "0      1.0  67.00  91.00     58.00     55.0  58.80  270000.0      M   Others   \n",
       "1      2.0  79.33  78.33     77.48     86.5  66.28  200000.0      M  Central   \n",
       "2      3.0  65.00  68.00     64.00     75.0  57.80  250000.0      M  Central   \n",
       "3      4.0  56.00  52.00     52.00     66.0  59.43       0.0      M  Central   \n",
       "4      5.0  85.80  73.60     73.30     96.8  55.50  425000.0      M  Central   \n",
       "..     ...    ...    ...       ...      ...    ...       ...    ...      ...   \n",
       "210  211.0  80.60  82.00     77.60     91.0  74.49  400000.0      M   Others   \n",
       "211  212.0  58.00  60.00     72.00     74.0  53.62  275000.0      M   Others   \n",
       "212  213.0  67.00  67.00     73.00     59.0  69.72  295000.0      M   Others   \n",
       "213  214.0  74.00  66.00     58.00     70.0  60.23  204000.0      F   Others   \n",
       "214  215.0  62.00  58.00     53.00     89.0  60.22       0.0      M  Central   \n",
       "\n",
       "       hsc_b     hsc_s   degree_t workex specialisation      status  \n",
       "0     Others  Commerce   Sci&Tech     No         Mkt&HR      Placed  \n",
       "1     Others   Science   Sci&Tech    Yes        Mkt&Fin      Placed  \n",
       "2    Central      Arts  Comm&Mgmt     No        Mkt&Fin      Placed  \n",
       "3    Central   Science   Sci&Tech     No         Mkt&HR  Not Placed  \n",
       "4    Central  Commerce  Comm&Mgmt     No        Mkt&Fin      Placed  \n",
       "..       ...       ...        ...    ...            ...         ...  \n",
       "210   Others  Commerce  Comm&Mgmt     No        Mkt&Fin      Placed  \n",
       "211   Others   Science   Sci&Tech     No        Mkt&Fin      Placed  \n",
       "212   Others  Commerce  Comm&Mgmt    Yes        Mkt&Fin      Placed  \n",
       "213   Others  Commerce  Comm&Mgmt     No         Mkt&HR      Placed  \n",
       "214   Others   Science  Comm&Mgmt     No         Mkt&HR  Not Placed  \n",
       "\n",
       "[215 rows x 15 columns]"
      ]
     },
     "execution_count": 3,
     "metadata": {},
     "output_type": "execute_result"
    }
   ],
   "source": [
    "dataset"
   ]
  },
  {
   "cell_type": "code",
   "execution_count": 4,
   "id": "4c1754a4-6741-4e55-a498-239ccab1101a",
   "metadata": {},
   "outputs": [
    {
     "data": {
      "text/plain": [
       "np.float64(940000.0)"
      ]
     },
     "execution_count": 4,
     "metadata": {},
     "output_type": "execute_result"
    }
   ],
   "source": [
    "dataset['salary'].max()"
   ]
  },
  {
   "cell_type": "code",
   "execution_count": 5,
   "id": "b5b4dbea-379f-45fb-916c-8fcc5f569a79",
   "metadata": {},
   "outputs": [
    {
     "data": {
      "text/plain": [
       "sl_no             0\n",
       "ssc_p             0\n",
       "hsc_p             0\n",
       "degree_p          0\n",
       "etest_p           0\n",
       "mba_p             0\n",
       "salary            0\n",
       "gender            0\n",
       "ssc_b             0\n",
       "hsc_b             0\n",
       "hsc_s             0\n",
       "degree_t          0\n",
       "workex            0\n",
       "specialisation    0\n",
       "status            0\n",
       "dtype: int64"
      ]
     },
     "execution_count": 5,
     "metadata": {},
     "output_type": "execute_result"
    }
   ],
   "source": [
    "dataset.isnull().sum()"
   ]
  },
  {
   "cell_type": "code",
   "execution_count": 6,
   "id": "436ad55c-943d-4ed9-8a13-c716f62b186a",
   "metadata": {},
   "outputs": [],
   "source": [
    "#1.2 -- 1) Here we have used a preprocessed dataset and we have replaced null value with '0' as salary for not placed students."
   ]
  },
  {
   "cell_type": "code",
   "execution_count": 7,
   "id": "0422ecb7-d6b4-460e-b23a-c900e8739072",
   "metadata": {},
   "outputs": [
    {
     "data": {
      "text/plain": [
       "status\n",
       "Placed        148\n",
       "Not Placed     67\n",
       "Name: count, dtype: int64"
      ]
     },
     "execution_count": 7,
     "metadata": {},
     "output_type": "execute_result"
    }
   ],
   "source": [
    "dataset['status'].value_counts()"
   ]
  },
  {
   "cell_type": "code",
   "execution_count": 8,
   "id": "77660ad8-a886-49ea-a718-4e672421b040",
   "metadata": {},
   "outputs": [],
   "source": [
    "#1.3-- 2) 67 of them are not placed "
   ]
  },
  {
   "cell_type": "code",
   "execution_count": null,
   "id": "d7364c46-3351-4e9e-a8cc-3644038fdb40",
   "metadata": {},
   "outputs": [],
   "source": [
    "#1.4 -- 3) Find the reason of students not being placed."
   ]
  },
  {
   "cell_type": "code",
   "execution_count": 55,
   "id": "bbc50871-df32-4806-9980-65cb5880c3ee",
   "metadata": {},
   "outputs": [
    {
     "data": {
      "text/html": [
       "<div>\n",
       "<style scoped>\n",
       "    .dataframe tbody tr th:only-of-type {\n",
       "        vertical-align: middle;\n",
       "    }\n",
       "\n",
       "    .dataframe tbody tr th {\n",
       "        vertical-align: top;\n",
       "    }\n",
       "\n",
       "    .dataframe thead th {\n",
       "        text-align: right;\n",
       "    }\n",
       "</style>\n",
       "<table border=\"1\" class=\"dataframe\">\n",
       "  <thead>\n",
       "    <tr style=\"text-align: right;\">\n",
       "      <th></th>\n",
       "      <th>sl_no</th>\n",
       "      <th>ssc_p</th>\n",
       "      <th>hsc_p</th>\n",
       "      <th>degree_p</th>\n",
       "      <th>etest_p</th>\n",
       "      <th>mba_p</th>\n",
       "      <th>salary</th>\n",
       "      <th>gender</th>\n",
       "      <th>ssc_b</th>\n",
       "      <th>hsc_b</th>\n",
       "      <th>hsc_s</th>\n",
       "      <th>degree_t</th>\n",
       "      <th>workex</th>\n",
       "      <th>specialisation</th>\n",
       "      <th>status</th>\n",
       "    </tr>\n",
       "  </thead>\n",
       "  <tbody>\n",
       "    <tr>\n",
       "      <th>3</th>\n",
       "      <td>4.0</td>\n",
       "      <td>56.0</td>\n",
       "      <td>52.0</td>\n",
       "      <td>52.00</td>\n",
       "      <td>66.00</td>\n",
       "      <td>59.43</td>\n",
       "      <td>0.0</td>\n",
       "      <td>M</td>\n",
       "      <td>Central</td>\n",
       "      <td>Central</td>\n",
       "      <td>Science</td>\n",
       "      <td>Sci&amp;Tech</td>\n",
       "      <td>No</td>\n",
       "      <td>Mkt&amp;HR</td>\n",
       "      <td>Not Placed</td>\n",
       "    </tr>\n",
       "    <tr>\n",
       "      <th>5</th>\n",
       "      <td>6.0</td>\n",
       "      <td>55.0</td>\n",
       "      <td>49.8</td>\n",
       "      <td>67.25</td>\n",
       "      <td>55.00</td>\n",
       "      <td>51.58</td>\n",
       "      <td>0.0</td>\n",
       "      <td>M</td>\n",
       "      <td>Others</td>\n",
       "      <td>Others</td>\n",
       "      <td>Science</td>\n",
       "      <td>Sci&amp;Tech</td>\n",
       "      <td>Yes</td>\n",
       "      <td>Mkt&amp;Fin</td>\n",
       "      <td>Not Placed</td>\n",
       "    </tr>\n",
       "    <tr>\n",
       "      <th>6</th>\n",
       "      <td>7.0</td>\n",
       "      <td>46.0</td>\n",
       "      <td>49.2</td>\n",
       "      <td>79.00</td>\n",
       "      <td>74.28</td>\n",
       "      <td>53.29</td>\n",
       "      <td>0.0</td>\n",
       "      <td>F</td>\n",
       "      <td>Others</td>\n",
       "      <td>Others</td>\n",
       "      <td>Commerce</td>\n",
       "      <td>Comm&amp;Mgmt</td>\n",
       "      <td>No</td>\n",
       "      <td>Mkt&amp;Fin</td>\n",
       "      <td>Not Placed</td>\n",
       "    </tr>\n",
       "    <tr>\n",
       "      <th>9</th>\n",
       "      <td>10.0</td>\n",
       "      <td>58.0</td>\n",
       "      <td>70.0</td>\n",
       "      <td>61.00</td>\n",
       "      <td>54.00</td>\n",
       "      <td>52.21</td>\n",
       "      <td>0.0</td>\n",
       "      <td>M</td>\n",
       "      <td>Central</td>\n",
       "      <td>Central</td>\n",
       "      <td>Commerce</td>\n",
       "      <td>Comm&amp;Mgmt</td>\n",
       "      <td>No</td>\n",
       "      <td>Mkt&amp;Fin</td>\n",
       "      <td>Not Placed</td>\n",
       "    </tr>\n",
       "    <tr>\n",
       "      <th>12</th>\n",
       "      <td>13.0</td>\n",
       "      <td>47.0</td>\n",
       "      <td>55.0</td>\n",
       "      <td>65.00</td>\n",
       "      <td>62.00</td>\n",
       "      <td>65.04</td>\n",
       "      <td>0.0</td>\n",
       "      <td>F</td>\n",
       "      <td>Central</td>\n",
       "      <td>Others</td>\n",
       "      <td>Science</td>\n",
       "      <td>Comm&amp;Mgmt</td>\n",
       "      <td>No</td>\n",
       "      <td>Mkt&amp;HR</td>\n",
       "      <td>Not Placed</td>\n",
       "    </tr>\n",
       "    <tr>\n",
       "      <th>...</th>\n",
       "      <td>...</td>\n",
       "      <td>...</td>\n",
       "      <td>...</td>\n",
       "      <td>...</td>\n",
       "      <td>...</td>\n",
       "      <td>...</td>\n",
       "      <td>...</td>\n",
       "      <td>...</td>\n",
       "      <td>...</td>\n",
       "      <td>...</td>\n",
       "      <td>...</td>\n",
       "      <td>...</td>\n",
       "      <td>...</td>\n",
       "      <td>...</td>\n",
       "      <td>...</td>\n",
       "    </tr>\n",
       "    <tr>\n",
       "      <th>198</th>\n",
       "      <td>199.0</td>\n",
       "      <td>67.0</td>\n",
       "      <td>70.0</td>\n",
       "      <td>65.00</td>\n",
       "      <td>88.00</td>\n",
       "      <td>71.96</td>\n",
       "      <td>0.0</td>\n",
       "      <td>F</td>\n",
       "      <td>Central</td>\n",
       "      <td>Central</td>\n",
       "      <td>Commerce</td>\n",
       "      <td>Others</td>\n",
       "      <td>No</td>\n",
       "      <td>Mkt&amp;HR</td>\n",
       "      <td>Not Placed</td>\n",
       "    </tr>\n",
       "    <tr>\n",
       "      <th>201</th>\n",
       "      <td>202.0</td>\n",
       "      <td>54.2</td>\n",
       "      <td>63.0</td>\n",
       "      <td>58.00</td>\n",
       "      <td>79.00</td>\n",
       "      <td>58.44</td>\n",
       "      <td>0.0</td>\n",
       "      <td>M</td>\n",
       "      <td>Central</td>\n",
       "      <td>Others</td>\n",
       "      <td>Science</td>\n",
       "      <td>Comm&amp;Mgmt</td>\n",
       "      <td>No</td>\n",
       "      <td>Mkt&amp;HR</td>\n",
       "      <td>Not Placed</td>\n",
       "    </tr>\n",
       "    <tr>\n",
       "      <th>206</th>\n",
       "      <td>207.0</td>\n",
       "      <td>41.0</td>\n",
       "      <td>42.0</td>\n",
       "      <td>60.00</td>\n",
       "      <td>97.00</td>\n",
       "      <td>53.39</td>\n",
       "      <td>0.0</td>\n",
       "      <td>M</td>\n",
       "      <td>Central</td>\n",
       "      <td>Central</td>\n",
       "      <td>Science</td>\n",
       "      <td>Comm&amp;Mgmt</td>\n",
       "      <td>No</td>\n",
       "      <td>Mkt&amp;Fin</td>\n",
       "      <td>Not Placed</td>\n",
       "    </tr>\n",
       "    <tr>\n",
       "      <th>208</th>\n",
       "      <td>209.0</td>\n",
       "      <td>43.0</td>\n",
       "      <td>60.0</td>\n",
       "      <td>65.00</td>\n",
       "      <td>92.66</td>\n",
       "      <td>62.92</td>\n",
       "      <td>0.0</td>\n",
       "      <td>F</td>\n",
       "      <td>Central</td>\n",
       "      <td>Others</td>\n",
       "      <td>Science</td>\n",
       "      <td>Comm&amp;Mgmt</td>\n",
       "      <td>No</td>\n",
       "      <td>Mkt&amp;HR</td>\n",
       "      <td>Not Placed</td>\n",
       "    </tr>\n",
       "    <tr>\n",
       "      <th>214</th>\n",
       "      <td>215.0</td>\n",
       "      <td>62.0</td>\n",
       "      <td>58.0</td>\n",
       "      <td>53.00</td>\n",
       "      <td>89.00</td>\n",
       "      <td>60.22</td>\n",
       "      <td>0.0</td>\n",
       "      <td>M</td>\n",
       "      <td>Central</td>\n",
       "      <td>Others</td>\n",
       "      <td>Science</td>\n",
       "      <td>Comm&amp;Mgmt</td>\n",
       "      <td>No</td>\n",
       "      <td>Mkt&amp;HR</td>\n",
       "      <td>Not Placed</td>\n",
       "    </tr>\n",
       "  </tbody>\n",
       "</table>\n",
       "<p>67 rows × 15 columns</p>\n",
       "</div>"
      ],
      "text/plain": [
       "     sl_no  ssc_p  hsc_p  degree_p  etest_p  mba_p  salary gender    ssc_b  \\\n",
       "3      4.0   56.0   52.0     52.00    66.00  59.43     0.0      M  Central   \n",
       "5      6.0   55.0   49.8     67.25    55.00  51.58     0.0      M   Others   \n",
       "6      7.0   46.0   49.2     79.00    74.28  53.29     0.0      F   Others   \n",
       "9     10.0   58.0   70.0     61.00    54.00  52.21     0.0      M  Central   \n",
       "12    13.0   47.0   55.0     65.00    62.00  65.04     0.0      F  Central   \n",
       "..     ...    ...    ...       ...      ...    ...     ...    ...      ...   \n",
       "198  199.0   67.0   70.0     65.00    88.00  71.96     0.0      F  Central   \n",
       "201  202.0   54.2   63.0     58.00    79.00  58.44     0.0      M  Central   \n",
       "206  207.0   41.0   42.0     60.00    97.00  53.39     0.0      M  Central   \n",
       "208  209.0   43.0   60.0     65.00    92.66  62.92     0.0      F  Central   \n",
       "214  215.0   62.0   58.0     53.00    89.00  60.22     0.0      M  Central   \n",
       "\n",
       "       hsc_b     hsc_s   degree_t workex specialisation      status  \n",
       "3    Central   Science   Sci&Tech     No         Mkt&HR  Not Placed  \n",
       "5     Others   Science   Sci&Tech    Yes        Mkt&Fin  Not Placed  \n",
       "6     Others  Commerce  Comm&Mgmt     No        Mkt&Fin  Not Placed  \n",
       "9    Central  Commerce  Comm&Mgmt     No        Mkt&Fin  Not Placed  \n",
       "12    Others   Science  Comm&Mgmt     No         Mkt&HR  Not Placed  \n",
       "..       ...       ...        ...    ...            ...         ...  \n",
       "198  Central  Commerce     Others     No         Mkt&HR  Not Placed  \n",
       "201   Others   Science  Comm&Mgmt     No         Mkt&HR  Not Placed  \n",
       "206  Central   Science  Comm&Mgmt     No        Mkt&Fin  Not Placed  \n",
       "208   Others   Science  Comm&Mgmt     No         Mkt&HR  Not Placed  \n",
       "214   Others   Science  Comm&Mgmt     No         Mkt&HR  Not Placed  \n",
       "\n",
       "[67 rows x 15 columns]"
      ]
     },
     "execution_count": 55,
     "metadata": {},
     "output_type": "execute_result"
    }
   ],
   "source": [
    "dataset[dataset['status']=='Not Placed']"
   ]
  },
  {
   "cell_type": "code",
   "execution_count": 57,
   "id": "5a891f2b-58d6-4131-8d2a-8e8b67156b8f",
   "metadata": {},
   "outputs": [
    {
     "data": {
      "text/html": [
       "<div>\n",
       "<style scoped>\n",
       "    .dataframe tbody tr th:only-of-type {\n",
       "        vertical-align: middle;\n",
       "    }\n",
       "\n",
       "    .dataframe tbody tr th {\n",
       "        vertical-align: top;\n",
       "    }\n",
       "\n",
       "    .dataframe thead th {\n",
       "        text-align: right;\n",
       "    }\n",
       "</style>\n",
       "<table border=\"1\" class=\"dataframe\">\n",
       "  <thead>\n",
       "    <tr style=\"text-align: right;\">\n",
       "      <th></th>\n",
       "      <th>sl_no</th>\n",
       "      <th>ssc_p</th>\n",
       "      <th>hsc_p</th>\n",
       "      <th>degree_p</th>\n",
       "      <th>etest_p</th>\n",
       "      <th>mba_p</th>\n",
       "      <th>salary</th>\n",
       "      <th>gender</th>\n",
       "      <th>ssc_b</th>\n",
       "      <th>hsc_b</th>\n",
       "      <th>hsc_s</th>\n",
       "      <th>degree_t</th>\n",
       "      <th>workex</th>\n",
       "      <th>specialisation</th>\n",
       "      <th>status</th>\n",
       "    </tr>\n",
       "  </thead>\n",
       "  <tbody>\n",
       "    <tr>\n",
       "      <th>0</th>\n",
       "      <td>1.0</td>\n",
       "      <td>67.00</td>\n",
       "      <td>91.00</td>\n",
       "      <td>58.00</td>\n",
       "      <td>55.0</td>\n",
       "      <td>58.80</td>\n",
       "      <td>270000.0</td>\n",
       "      <td>M</td>\n",
       "      <td>Others</td>\n",
       "      <td>Others</td>\n",
       "      <td>Commerce</td>\n",
       "      <td>Sci&amp;Tech</td>\n",
       "      <td>No</td>\n",
       "      <td>Mkt&amp;HR</td>\n",
       "      <td>Placed</td>\n",
       "    </tr>\n",
       "    <tr>\n",
       "      <th>1</th>\n",
       "      <td>2.0</td>\n",
       "      <td>79.33</td>\n",
       "      <td>78.33</td>\n",
       "      <td>77.48</td>\n",
       "      <td>86.5</td>\n",
       "      <td>66.28</td>\n",
       "      <td>200000.0</td>\n",
       "      <td>M</td>\n",
       "      <td>Central</td>\n",
       "      <td>Others</td>\n",
       "      <td>Science</td>\n",
       "      <td>Sci&amp;Tech</td>\n",
       "      <td>Yes</td>\n",
       "      <td>Mkt&amp;Fin</td>\n",
       "      <td>Placed</td>\n",
       "    </tr>\n",
       "    <tr>\n",
       "      <th>2</th>\n",
       "      <td>3.0</td>\n",
       "      <td>65.00</td>\n",
       "      <td>68.00</td>\n",
       "      <td>64.00</td>\n",
       "      <td>75.0</td>\n",
       "      <td>57.80</td>\n",
       "      <td>250000.0</td>\n",
       "      <td>M</td>\n",
       "      <td>Central</td>\n",
       "      <td>Central</td>\n",
       "      <td>Arts</td>\n",
       "      <td>Comm&amp;Mgmt</td>\n",
       "      <td>No</td>\n",
       "      <td>Mkt&amp;Fin</td>\n",
       "      <td>Placed</td>\n",
       "    </tr>\n",
       "    <tr>\n",
       "      <th>4</th>\n",
       "      <td>5.0</td>\n",
       "      <td>85.80</td>\n",
       "      <td>73.60</td>\n",
       "      <td>73.30</td>\n",
       "      <td>96.8</td>\n",
       "      <td>55.50</td>\n",
       "      <td>425000.0</td>\n",
       "      <td>M</td>\n",
       "      <td>Central</td>\n",
       "      <td>Central</td>\n",
       "      <td>Commerce</td>\n",
       "      <td>Comm&amp;Mgmt</td>\n",
       "      <td>No</td>\n",
       "      <td>Mkt&amp;Fin</td>\n",
       "      <td>Placed</td>\n",
       "    </tr>\n",
       "    <tr>\n",
       "      <th>7</th>\n",
       "      <td>8.0</td>\n",
       "      <td>82.00</td>\n",
       "      <td>64.00</td>\n",
       "      <td>66.00</td>\n",
       "      <td>67.0</td>\n",
       "      <td>62.14</td>\n",
       "      <td>252000.0</td>\n",
       "      <td>M</td>\n",
       "      <td>Central</td>\n",
       "      <td>Central</td>\n",
       "      <td>Science</td>\n",
       "      <td>Sci&amp;Tech</td>\n",
       "      <td>Yes</td>\n",
       "      <td>Mkt&amp;Fin</td>\n",
       "      <td>Placed</td>\n",
       "    </tr>\n",
       "    <tr>\n",
       "      <th>...</th>\n",
       "      <td>...</td>\n",
       "      <td>...</td>\n",
       "      <td>...</td>\n",
       "      <td>...</td>\n",
       "      <td>...</td>\n",
       "      <td>...</td>\n",
       "      <td>...</td>\n",
       "      <td>...</td>\n",
       "      <td>...</td>\n",
       "      <td>...</td>\n",
       "      <td>...</td>\n",
       "      <td>...</td>\n",
       "      <td>...</td>\n",
       "      <td>...</td>\n",
       "      <td>...</td>\n",
       "    </tr>\n",
       "    <tr>\n",
       "      <th>209</th>\n",
       "      <td>210.0</td>\n",
       "      <td>62.00</td>\n",
       "      <td>72.00</td>\n",
       "      <td>65.00</td>\n",
       "      <td>67.0</td>\n",
       "      <td>56.49</td>\n",
       "      <td>216000.0</td>\n",
       "      <td>M</td>\n",
       "      <td>Central</td>\n",
       "      <td>Central</td>\n",
       "      <td>Commerce</td>\n",
       "      <td>Comm&amp;Mgmt</td>\n",
       "      <td>No</td>\n",
       "      <td>Mkt&amp;Fin</td>\n",
       "      <td>Placed</td>\n",
       "    </tr>\n",
       "    <tr>\n",
       "      <th>210</th>\n",
       "      <td>211.0</td>\n",
       "      <td>80.60</td>\n",
       "      <td>82.00</td>\n",
       "      <td>77.60</td>\n",
       "      <td>91.0</td>\n",
       "      <td>74.49</td>\n",
       "      <td>400000.0</td>\n",
       "      <td>M</td>\n",
       "      <td>Others</td>\n",
       "      <td>Others</td>\n",
       "      <td>Commerce</td>\n",
       "      <td>Comm&amp;Mgmt</td>\n",
       "      <td>No</td>\n",
       "      <td>Mkt&amp;Fin</td>\n",
       "      <td>Placed</td>\n",
       "    </tr>\n",
       "    <tr>\n",
       "      <th>211</th>\n",
       "      <td>212.0</td>\n",
       "      <td>58.00</td>\n",
       "      <td>60.00</td>\n",
       "      <td>72.00</td>\n",
       "      <td>74.0</td>\n",
       "      <td>53.62</td>\n",
       "      <td>275000.0</td>\n",
       "      <td>M</td>\n",
       "      <td>Others</td>\n",
       "      <td>Others</td>\n",
       "      <td>Science</td>\n",
       "      <td>Sci&amp;Tech</td>\n",
       "      <td>No</td>\n",
       "      <td>Mkt&amp;Fin</td>\n",
       "      <td>Placed</td>\n",
       "    </tr>\n",
       "    <tr>\n",
       "      <th>212</th>\n",
       "      <td>213.0</td>\n",
       "      <td>67.00</td>\n",
       "      <td>67.00</td>\n",
       "      <td>73.00</td>\n",
       "      <td>59.0</td>\n",
       "      <td>69.72</td>\n",
       "      <td>295000.0</td>\n",
       "      <td>M</td>\n",
       "      <td>Others</td>\n",
       "      <td>Others</td>\n",
       "      <td>Commerce</td>\n",
       "      <td>Comm&amp;Mgmt</td>\n",
       "      <td>Yes</td>\n",
       "      <td>Mkt&amp;Fin</td>\n",
       "      <td>Placed</td>\n",
       "    </tr>\n",
       "    <tr>\n",
       "      <th>213</th>\n",
       "      <td>214.0</td>\n",
       "      <td>74.00</td>\n",
       "      <td>66.00</td>\n",
       "      <td>58.00</td>\n",
       "      <td>70.0</td>\n",
       "      <td>60.23</td>\n",
       "      <td>204000.0</td>\n",
       "      <td>F</td>\n",
       "      <td>Others</td>\n",
       "      <td>Others</td>\n",
       "      <td>Commerce</td>\n",
       "      <td>Comm&amp;Mgmt</td>\n",
       "      <td>No</td>\n",
       "      <td>Mkt&amp;HR</td>\n",
       "      <td>Placed</td>\n",
       "    </tr>\n",
       "  </tbody>\n",
       "</table>\n",
       "<p>148 rows × 15 columns</p>\n",
       "</div>"
      ],
      "text/plain": [
       "     sl_no  ssc_p  hsc_p  degree_p  etest_p  mba_p    salary gender    ssc_b  \\\n",
       "0      1.0  67.00  91.00     58.00     55.0  58.80  270000.0      M   Others   \n",
       "1      2.0  79.33  78.33     77.48     86.5  66.28  200000.0      M  Central   \n",
       "2      3.0  65.00  68.00     64.00     75.0  57.80  250000.0      M  Central   \n",
       "4      5.0  85.80  73.60     73.30     96.8  55.50  425000.0      M  Central   \n",
       "7      8.0  82.00  64.00     66.00     67.0  62.14  252000.0      M  Central   \n",
       "..     ...    ...    ...       ...      ...    ...       ...    ...      ...   \n",
       "209  210.0  62.00  72.00     65.00     67.0  56.49  216000.0      M  Central   \n",
       "210  211.0  80.60  82.00     77.60     91.0  74.49  400000.0      M   Others   \n",
       "211  212.0  58.00  60.00     72.00     74.0  53.62  275000.0      M   Others   \n",
       "212  213.0  67.00  67.00     73.00     59.0  69.72  295000.0      M   Others   \n",
       "213  214.0  74.00  66.00     58.00     70.0  60.23  204000.0      F   Others   \n",
       "\n",
       "       hsc_b     hsc_s   degree_t workex specialisation  status  \n",
       "0     Others  Commerce   Sci&Tech     No         Mkt&HR  Placed  \n",
       "1     Others   Science   Sci&Tech    Yes        Mkt&Fin  Placed  \n",
       "2    Central      Arts  Comm&Mgmt     No        Mkt&Fin  Placed  \n",
       "4    Central  Commerce  Comm&Mgmt     No        Mkt&Fin  Placed  \n",
       "7    Central   Science   Sci&Tech    Yes        Mkt&Fin  Placed  \n",
       "..       ...       ...        ...    ...            ...     ...  \n",
       "209  Central  Commerce  Comm&Mgmt     No        Mkt&Fin  Placed  \n",
       "210   Others  Commerce  Comm&Mgmt     No        Mkt&Fin  Placed  \n",
       "211   Others   Science   Sci&Tech     No        Mkt&Fin  Placed  \n",
       "212   Others  Commerce  Comm&Mgmt    Yes        Mkt&Fin  Placed  \n",
       "213   Others  Commerce  Comm&Mgmt     No         Mkt&HR  Placed  \n",
       "\n",
       "[148 rows x 15 columns]"
      ]
     },
     "execution_count": 57,
     "metadata": {},
     "output_type": "execute_result"
    }
   ],
   "source": [
    "dataset[dataset['status']=='Placed']"
   ]
  },
  {
   "cell_type": "code",
   "execution_count": 59,
   "id": "2b550ac0-520d-438b-a8e5-61020501caab",
   "metadata": {},
   "outputs": [
    {
     "name": "stdout",
     "output_type": "stream",
     "text": [
      "57.54402985074626 71.7214864864865\n"
     ]
    }
   ],
   "source": [
    "np= dataset[dataset['status']=='Not Placed']['ssc_p'].mean()\n",
    "p= dataset[dataset['status']=='Placed']['ssc_p'].mean()\n",
    "print(np,p)"
   ]
  },
  {
   "cell_type": "code",
   "execution_count": 60,
   "id": "e3391d30-64b9-4030-9a0c-494dfa60acdd",
   "metadata": {},
   "outputs": [
    {
     "name": "stdout",
     "output_type": "stream",
     "text": [
      "58.3955223880597 69.92655405405407\n"
     ]
    }
   ],
   "source": [
    "np2= dataset[dataset['status']=='Not Placed']['hsc_p'].mean()\n",
    "p2= dataset[dataset['status']=='Placed']['hsc_p'].mean()\n",
    "print(np2,p2)"
   ]
  },
  {
   "cell_type": "code",
   "execution_count": null,
   "id": "369316ac-0f54-461d-a5eb-1ed5fa13ff08",
   "metadata": {},
   "outputs": [],
   "source": [
    "#1.4 -- 3) Here we could see the average marks of not placed students is comparatively lower than placed students."
   ]
  },
  {
   "cell_type": "code",
   "execution_count": null,
   "id": "e603cb55-f47a-42f2-8d84-9c5f6fd56458",
   "metadata": {},
   "outputs": [],
   "source": [
    "#1.5 -- 4) mba_p vs Salary = 0.139 = low degree positive correlation (DIRECTLY PROPORTIONAL with 14% increase)"
   ]
  },
  {
   "cell_type": "code",
   "execution_count": 11,
   "id": "85a0b9e1-c01a-45f5-8a41-091d0dfc500e",
   "metadata": {},
   "outputs": [
    {
     "data": {
      "text/plain": [
       "np.float64(0.13982273892615565)"
      ]
     },
     "execution_count": 11,
     "metadata": {},
     "output_type": "execute_result"
    }
   ],
   "source": [
    "dataset['mba_p'].corr(dataset['salary'])"
   ]
  },
  {
   "cell_type": "code",
   "execution_count": null,
   "id": "a5ad33f9-cc7c-4375-abe2-70be9c899d3a",
   "metadata": {},
   "outputs": [],
   "source": [
    "#1.6-- 5) Which specialization is getting higher salary?"
   ]
  },
  {
   "cell_type": "code",
   "execution_count": 13,
   "id": "dd3b2191-5877-4a12-8ee3-7773c3ee39b1",
   "metadata": {},
   "outputs": [
    {
     "data": {
      "text/plain": [
       "specialisation\n",
       "Mkt&Fin    120\n",
       "Mkt&HR      95\n",
       "Name: count, dtype: int64"
      ]
     },
     "execution_count": 13,
     "metadata": {},
     "output_type": "execute_result"
    }
   ],
   "source": [
    "dataset['specialisation'].value_counts()"
   ]
  },
  {
   "cell_type": "code",
   "execution_count": 14,
   "id": "eaf84c4a-4ad0-4d16-a54f-150e53722473",
   "metadata": {},
   "outputs": [
    {
     "data": {
      "text/plain": [
       "np.float64(210000.0)"
      ]
     },
     "execution_count": 14,
     "metadata": {},
     "output_type": "execute_result"
    }
   ],
   "source": [
    "dataset[dataset['specialisation']=='Mkt&HR']['salary'].median()"
   ]
  },
  {
   "cell_type": "code",
   "execution_count": 15,
   "id": "272cb3fc-06b3-44d7-9dfc-f1565ffe454e",
   "metadata": {},
   "outputs": [
    {
     "data": {
      "text/plain": [
       "np.float64(250000.0)"
      ]
     },
     "execution_count": 15,
     "metadata": {},
     "output_type": "execute_result"
    }
   ],
   "source": [
    "dataset[dataset['specialisation']=='Mkt&Fin']['salary'].median()"
   ]
  },
  {
   "cell_type": "code",
   "execution_count": 16,
   "id": "d694ed3c-e10d-4356-ad3c-78b35bc69a80",
   "metadata": {},
   "outputs": [],
   "source": [
    "#1.6-- 5) On an Average MKT&HR specialisation have MINIMUM SALARY compared to MKT&FIN."
   ]
  },
  {
   "cell_type": "code",
   "execution_count": null,
   "id": "4ac6e24a-9af5-4950-a9bd-a7c37812a3d3",
   "metadata": {},
   "outputs": [],
   "source": [
    "#1.7-- 6) How many of them are getting a salary greater than 500000?"
   ]
  },
  {
   "cell_type": "code",
   "execution_count": 17,
   "id": "1d512859-8f6c-4590-ba3a-7c45dc3f50a9",
   "metadata": {},
   "outputs": [
    {
     "data": {
      "text/plain": [
       "array([False, False, False, False, False, False, False, False, False,\n",
       "       False, False, False, False, False, False, False, False, False,\n",
       "       False, False, False, False, False, False, False, False, False,\n",
       "       False, False, False, False, False, False, False, False, False,\n",
       "       False, False, False, False, False, False, False, False, False,\n",
       "       False, False, False, False, False, False, False, False, False,\n",
       "       False, False, False, False, False, False, False, False, False,\n",
       "       False, False, False, False, False, False, False, False, False,\n",
       "       False, False, False, False, False, False, False, False, False,\n",
       "       False, False, False, False, False, False, False, False, False,\n",
       "       False, False, False, False, False, False, False, False, False,\n",
       "       False, False, False, False, False, False, False, False, False,\n",
       "       False, False, False, False, False, False, False, False, False,\n",
       "       False, False,  True, False, False, False, False, False, False,\n",
       "       False, False, False, False, False, False, False, False, False,\n",
       "       False, False, False, False, False, False, False, False, False,\n",
       "       False, False, False, False, False, False,  True, False, False,\n",
       "       False, False, False, False, False, False, False, False, False,\n",
       "       False, False, False, False, False, False, False, False, False,\n",
       "       False, False, False, False, False, False,  True, False, False,\n",
       "       False, False, False, False, False, False, False, False, False,\n",
       "       False, False, False, False, False, False, False, False, False,\n",
       "       False, False, False, False, False, False, False, False, False,\n",
       "       False, False, False, False, False, False, False, False])"
      ]
     },
     "execution_count": 17,
     "metadata": {},
     "output_type": "execute_result"
    }
   ],
   "source": [
    "(dataset['salary']>500000).values\n",
    "    "
   ]
  },
  {
   "cell_type": "code",
   "execution_count": 18,
   "id": "bd4edf83-04ef-41d0-95e4-4ea65d4f5739",
   "metadata": {},
   "outputs": [
    {
     "data": {
      "text/plain": [
       "np.int64(3)"
      ]
     },
     "execution_count": 18,
     "metadata": {},
     "output_type": "execute_result"
    }
   ],
   "source": [
    "(dataset['salary']>500000).sum()"
   ]
  },
  {
   "cell_type": "code",
   "execution_count": 19,
   "id": "6012c514-055f-4333-945b-d91d7aa360dd",
   "metadata": {},
   "outputs": [],
   "source": [
    "#1.7-- 6) Three of the students salary is above 500000"
   ]
  },
  {
   "cell_type": "code",
   "execution_count": 20,
   "id": "4c232577-9e13-4c7b-94eb-7dc7da246d00",
   "metadata": {},
   "outputs": [],
   "source": [
    "#1.8 --7) Analaysis of variance between etest_p and mba_p"
   ]
  },
  {
   "cell_type": "code",
   "execution_count": 21,
   "id": "6b3e6afd-7560-455b-abd7-4069848fae9a",
   "metadata": {},
   "outputs": [
    {
     "data": {
      "text/plain": [
       "F_onewayResult(statistic=np.float64(98.64487057324706), pvalue=np.float64(4.672547689133573e-21))"
      ]
     },
     "execution_count": 21,
     "metadata": {},
     "output_type": "execute_result"
    }
   ],
   "source": [
    "import scipy.stats as stats\n",
    "stats.f_oneway(dataset['etest_p'], dataset['mba_p'])"
   ]
  },
  {
   "cell_type": "code",
   "execution_count": 22,
   "id": "51725ffb-c4d4-4864-bb55-99b27f1fd189",
   "metadata": {},
   "outputs": [],
   "source": [
    "# statement: mean of the marks bw etest and mba is same\n",
    "# Null hypothesis: mean of the marks is not same for etest and mba\n",
    "# Since p value is greater than 5% so we accept null hypothesis."
   ]
  },
  {
   "cell_type": "code",
   "execution_count": 23,
   "id": "0892fb9e-1d55-4c41-a0e2-8c66ea96db4d",
   "metadata": {},
   "outputs": [],
   "source": [
    "#1.9 -- 8)  similarity between the degree_t(Sci&Tech) and specialisation(Mkt&HR) with respect to salary at significance level of 5%.(Makedecision using Hypothesis Testing)\n"
   ]
  },
  {
   "cell_type": "code",
   "execution_count": 24,
   "id": "77362b6c-72ad-4f1b-8f53-bcd88330fac9",
   "metadata": {},
   "outputs": [
    {
     "data": {
      "text/plain": [
       "TtestResult(statistic=np.float64(2.692041243555374), pvalue=np.float64(0.007897969943471179), df=np.float64(152.0))"
      ]
     },
     "execution_count": 24,
     "metadata": {},
     "output_type": "execute_result"
    }
   ],
   "source": [
    "from scipy.stats import ttest_ind\n",
    "SCI= dataset[dataset['degree_t']=='Sci&Tech']['salary']\n",
    "MKT= dataset[dataset['specialisation']=='Mkt&HR']['salary']\n",
    "ttest_ind( SCI,MKT )"
   ]
  },
  {
   "cell_type": "code",
   "execution_count": 25,
   "id": "108cb492-4a2d-43fe-a1dc-572b6168a211",
   "metadata": {},
   "outputs": [],
   "source": [
    "# statement: mean of the salary bw SCI and MKT is same\n",
    "# Null hypothesis: mean of the marks is not same for etest and mba\n",
    "# Since p value is LESS than 5% so we REJECT null hypothesis."
   ]
  },
  {
   "cell_type": "code",
   "execution_count": 26,
   "id": "a11e93be-204a-4bdf-95ad-800ce7fbf7de",
   "metadata": {},
   "outputs": [],
   "source": [
    "#1.10 -- 9) Convert the normal distribution to standard normal distribution for salary column"
   ]
  },
  {
   "cell_type": "code",
   "execution_count": 27,
   "id": "c8abc86f-2769-467c-8f94-5edebfd6b613",
   "metadata": {},
   "outputs": [
    {
     "data": {
      "text/plain": [
       "<Axes: xlabel='salary', ylabel='Count'>"
      ]
     },
     "execution_count": 27,
     "metadata": {},
     "output_type": "execute_result"
    },
    {
     "data": {
      "image/png": "[encoded data removed]",
      "text/plain": [
       "<Figure size 640x480 with 1 Axes>"
      ]
     },
     "metadata": {},
     "output_type": "display_data"
    }
   ],
   "source": [
    "sns.histplot(dataset['salary'], kde=True)"
   ]
  },
  {
   "cell_type": "code",
   "execution_count": 28,
   "id": "5044b919-4863-4db0-baad-6f876a6b6ab8",
   "metadata": {},
   "outputs": [
    {
     "name": "stdout",
     "output_type": "stream",
     "text": [
      "198702.32558139536\n",
      "154780.92671560097\n"
     ]
    },
    {
     "data": {
      "text/plain": [
       "[np.float64(0.46063604819739246),\n",
       " np.float64(0.008383942686872698),\n",
       " np.float64(0.3314211609086725),\n",
       " np.float64(-1.2837649302003267),\n",
       " np.float64(1.462051424684972),\n",
       " np.float64(-1.2837649302003267),\n",
       " np.float64(-1.2837649302003267),\n",
       " np.float64(0.3443426496375445),\n",
       " np.float64(0.2086670179843886),\n",
       " np.float64(-1.2837649302003267),\n",
       " np.float64(0.3960286045530325),\n",
       " np.float64(0.3314211609086725),\n",
       " np.float64(-1.2837649302003267),\n",
       " np.float64(0.12467734124672064),\n",
       " np.float64(-1.2837649302003267),\n",
       " np.float64(0.008383942686872698),\n",
       " np.float64(0.6544583791304723),\n",
       " np.float64(-1.2837649302003267),\n",
       " np.float64(-1.2837649302003267),\n",
       " np.float64(0.24097073980656858),\n",
       " np.float64(0.42833232637521246),\n",
       " np.float64(1.25530760502302),\n",
       " np.float64(1.042103040996632),\n",
       " np.float64(0.6544583791304723),\n",
       " np.float64(1.042103040996632),\n",
       " np.float64(-1.2837649302003267),\n",
       " np.float64(0.2668137172643126),\n",
       " np.float64(0.42833232637521246),\n",
       " np.float64(0.9774955973522722),\n",
       " np.float64(-1.2837649302003267),\n",
       " np.float64(0.3314211609086725),\n",
       " np.float64(-1.2837649302003267),\n",
       " np.float64(0.5123220031128805),\n",
       " np.float64(0.3960286045530325),\n",
       " np.float64(-1.2837649302003267),\n",
       " np.float64(0.6544583791304723),\n",
       " np.float64(-1.2837649302003267),\n",
       " np.float64(0.7836732664191923),\n",
       " np.float64(0.2668137172643126),\n",
       " np.float64(1.371601003582868),\n",
       " np.float64(0.5704687023928044),\n",
       " np.float64(-1.2837649302003267),\n",
       " np.float64(-1.2837649302003267),\n",
       " np.float64(0.6544583791304723),\n",
       " np.float64(0.008383942686872698),\n",
       " np.float64(-1.2837649302003267),\n",
       " np.float64(-1.2837649302003267),\n",
       " np.float64(0.03422692014461669),\n",
       " np.float64(0.3314211609086725),\n",
       " np.float64(-1.2837649302003267),\n",
       " np.float64(0.008383942686872698),\n",
       " np.float64(-1.2837649302003267),\n",
       " np.float64(-1.2837649302003267),\n",
       " np.float64(1.6235700337958718),\n",
       " np.float64(0.11175585251784864),\n",
       " np.float64(0.13759882997559264),\n",
       " np.float64(0.2668137172643126),\n",
       " np.float64(1.042103040996632),\n",
       " np.float64(0.44771455946852046),\n",
       " np.float64(0.42833232637521246),\n",
       " np.float64(0.3960286045530325),\n",
       " np.float64(0.6544583791304723),\n",
       " np.float64(0.2668137172643126),\n",
       " np.float64(-1.2837649302003267),\n",
       " np.float64(0.2668137172643126),\n",
       " np.float64(-1.2837649302003267),\n",
       " np.float64(0.49293977001957245),\n",
       " np.float64(0.49293977001957245),\n",
       " np.float64(-1.2837649302003267),\n",
       " np.float64(0.49293977001957245),\n",
       " np.float64(1.042103040996632),\n",
       " np.float64(0.2668137172643126),\n",
       " np.float64(0.2668137172643126),\n",
       " np.float64(0.12467734124672064),\n",
       " np.float64(0.8870451762501682),\n",
       " np.float64(-1.2837649302003267),\n",
       " np.float64(0.2022062736199526),\n",
       " np.float64(1.9466072520176718),\n",
       " np.float64(0.46063604819739246),\n",
       " np.float64(-1.2837649302003267),\n",
       " np.float64(0.2668137172643126),\n",
       " np.float64(0.6544583791304723),\n",
       " np.float64(-1.2837649302003267),\n",
       " np.float64(0.6544583791304723),\n",
       " np.float64(0.6544583791304723),\n",
       " np.float64(1.300532815574072),\n",
       " np.float64(0.13759882997559264),\n",
       " np.float64(-1.2837649302003267),\n",
       " np.float64(0.07299138633123266),\n",
       " np.float64(0.07299138633123266),\n",
       " np.float64(0.6544583791304723),\n",
       " np.float64(-1.2837649302003267),\n",
       " np.float64(0.2022062736199526),\n",
       " np.float64(-1.2837649302003267),\n",
       " np.float64(0.3960286045530325),\n",
       " np.float64(1.429747702862792),\n",
       " np.float64(0.6544583791304723),\n",
       " np.float64(-1.2837649302003267),\n",
       " np.float64(0.13759882997559264),\n",
       " np.float64(-1.2837649302003267),\n",
       " np.float64(-1.2837649302003267),\n",
       " np.float64(1.171317928285352),\n",
       " np.float64(0.6544583791304723),\n",
       " np.float64(0.2668137172643126),\n",
       " np.float64(1.042103040996632),\n",
       " np.float64(-1.2837649302003267),\n",
       " np.float64(-1.2837649302003267),\n",
       " np.float64(0.008383942686872698),\n",
       " np.float64(0.6544583791304723),\n",
       " np.float64(-1.2837649302003267),\n",
       " np.float64(0.3314211609086725),\n",
       " np.float64(-1.2837649302003267),\n",
       " np.float64(0.3314211609086725),\n",
       " np.float64(0.5252434918417525),\n",
       " np.float64(0.3314211609086725),\n",
       " np.float64(0.11175585251784864),\n",
       " np.float64(0.6544583791304723),\n",
       " np.float64(0.2668137172643126),\n",
       " np.float64(0.49940051438400845),\n",
       " np.float64(4.789334772369511),\n",
       " np.float64(-1.2837649302003267),\n",
       " np.float64(0.3314211609086725),\n",
       " np.float64(0.24097073980656858),\n",
       " np.float64(0.2668137172643126),\n",
       " np.float64(0.3314211609086725),\n",
       " np.float64(0.9774955973522722),\n",
       " np.float64(0.07299138633123266),\n",
       " np.float64(0.3314211609086725),\n",
       " np.float64(1.300532815574072),\n",
       " np.float64(0.3314211609086725),\n",
       " np.float64(-1.2837649302003267),\n",
       " np.float64(1.042103040996632),\n",
       " np.float64(0.6544583791304723),\n",
       " np.float64(0.3314211609086725),\n",
       " np.float64(0.3314211609086725),\n",
       " np.float64(0.008383942686872698),\n",
       " np.float64(-1.2837649302003267),\n",
       " np.float64(0.1699025517977726),\n",
       " np.float64(0.3314211609086725),\n",
       " np.float64(0.13759882997559264),\n",
       " np.float64(0.42833232637521246),\n",
       " np.float64(-1.2837649302003267),\n",
       " np.float64(0.3960286045530325),\n",
       " np.float64(0.6544583791304723),\n",
       " np.float64(-1.2837649302003267),\n",
       " np.float64(1.300532815574072),\n",
       " np.float64(0.22158850671326058),\n",
       " np.float64(0.6544583791304723),\n",
       " np.float64(0.2668137172643126),\n",
       " np.float64(-1.2837649302003267),\n",
       " np.float64(3.1741486812605113),\n",
       " np.float64(0.46063604819739246),\n",
       " np.float64(0.2668137172643126),\n",
       " np.float64(0.9128881537079122),\n",
       " np.float64(0.3314211609086725),\n",
       " np.float64(-1.2837649302003267),\n",
       " np.float64(0.3637248827308525),\n",
       " np.float64(0.6544583791304723),\n",
       " np.float64(-1.2837649302003267),\n",
       " np.float64(-1.2837649302003267),\n",
       " np.float64(0.6544583791304723),\n",
       " np.float64(-1.2837649302003267),\n",
       " np.float64(0.5575472136639325),\n",
       " np.float64(1.9466072520176718),\n",
       " np.float64(0.3314211609086725),\n",
       " np.float64(-1.2837649302003267),\n",
       " np.float64(0.2668137172643126),\n",
       " np.float64(-1.2837649302003267),\n",
       " np.float64(-1.2837649302003267),\n",
       " np.float64(-1.2837649302003267),\n",
       " np.float64(-1.2837649302003267),\n",
       " np.float64(0.5898509354861124),\n",
       " np.float64(0.6544583791304723),\n",
       " np.float64(-1.2837649302003267),\n",
       " np.float64(1.9466072520176718),\n",
       " np.float64(-1.2837649302003267),\n",
       " np.float64(0.13759882997559264),\n",
       " np.float64(2.9157189066830713),\n",
       " np.float64(0.9774955973522722),\n",
       " np.float64(-1.2837649302003267),\n",
       " np.float64(0.42833232637521246),\n",
       " np.float64(-1.2837649302003267),\n",
       " np.float64(-1.2837649302003267),\n",
       " np.float64(0.49940051438400845),\n",
       " np.float64(-1.2837649302003267),\n",
       " np.float64(0.3443426496375445),\n",
       " np.float64(-1.2837649302003267),\n",
       " np.float64(0.5252434918417525),\n",
       " np.float64(-1.2837649302003267),\n",
       " np.float64(-1.2837649302003267),\n",
       " np.float64(-1.2837649302003267),\n",
       " np.float64(0.4218715820107765),\n",
       " np.float64(0.46063604819739246),\n",
       " np.float64(0.6544583791304723),\n",
       " np.float64(-1.2837649302003267),\n",
       " np.float64(0.49293977001957245),\n",
       " np.float64(0.3314211609086725),\n",
       " np.float64(0.3960286045530325),\n",
       " np.float64(-1.2837649302003267),\n",
       " np.float64(0.42833232637521246),\n",
       " np.float64(0.6544583791304723),\n",
       " np.float64(-1.2837649302003267),\n",
       " np.float64(0.2668137172643126),\n",
       " np.float64(0.3960286045530325),\n",
       " np.float64(0.07299138633123266),\n",
       " np.float64(0.3314211609086725),\n",
       " np.float64(-1.2837649302003267),\n",
       " np.float64(0.6544583791304723),\n",
       " np.float64(-1.2837649302003267),\n",
       " np.float64(0.11175585251784864),\n",
       " np.float64(1.300532815574072),\n",
       " np.float64(0.49293977001957245),\n",
       " np.float64(0.6221546573082923),\n",
       " np.float64(0.03422692014461669),\n",
       " np.float64(-1.2837649302003267)]"
      ]
     },
     "execution_count": 28,
     "metadata": {},
     "output_type": "execute_result"
    }
   ],
   "source": [
    "mean= dataset['salary'].mean()\n",
    "sd= dataset['salary'].std()\n",
    "print(mean)\n",
    "print(sd)\n",
    "z_score=[]\n",
    "for x in dataset['salary']:\n",
    "    z_score.append((x-mean)/sd)\n",
    "z_score"
   ]
  },
  {
   "cell_type": "code",
   "execution_count": 29,
   "id": "f9f39cfd-9c83-472c-8f3a-0e03dc3fe744",
   "metadata": {},
   "outputs": [
    {
     "data": {
      "text/plain": [
       "<Axes: ylabel='Count'>"
      ]
     },
     "execution_count": 29,
     "metadata": {},
     "output_type": "execute_result"
    },
    {
     "data": {
      "image/png": "[encoded data removed]",
      "text/plain": [
       "<Figure size 640x480 with 1 Axes>"
      ]
     },
     "metadata": {},
     "output_type": "display_data"
    }
   ],
   "source": [
    "sns.histplot(z_score, kde=True)"
   ]
  },
  {
   "cell_type": "code",
   "execution_count": 30,
   "id": "1f216b41-710c-4cb1-894b-45b8be8b2b54",
   "metadata": {},
   "outputs": [],
   "source": [
    "#1.11 10)What is the probability Density Function of the salary range from 700000 to 900000?"
   ]
  },
  {
   "cell_type": "code",
   "execution_count": 31,
   "id": "d306fd13-70fd-4acc-b99c-136f01185b60",
   "metadata": {},
   "outputs": [
    {
     "name": "stdout",
     "output_type": "stream",
     "text": [
      "The area between range is : 0.0005973310593974868\n"
     ]
    }
   ],
   "source": [
    "from scipy.stats import norm\n",
    "dist= norm(mean,sd)\n",
    "probabilities=[]\n",
    "for value in range(700000, 900000):\n",
    "    probabilities.append(dist.pdf(value))\n",
    "prob= sum(probabilities)\n",
    "print(f'The area between range is : {prob}')"
   ]
  },
  {
   "cell_type": "code",
   "execution_count": 32,
   "id": "32e9db18-42bc-407e-8a3a-f96527afb5f5",
   "metadata": {},
   "outputs": [],
   "source": [
    "#1.12 11)Test the similarity between the degree_t(Sci&Tech)with respect to etest_p and mba_p at significance level of 5%.(Make decision using Hypothesis Testing"
   ]
  },
  {
   "cell_type": "code",
   "execution_count": 33,
   "id": "bdf7f47c-6e1c-4ad1-a1a7-88eb5198ffb7",
   "metadata": {},
   "outputs": [
    {
     "data": {
      "text/plain": [
       "TtestResult(statistic=np.float64(5.0049844583693615), pvalue=np.float64(5.517920600505392e-06), df=np.int64(58))"
      ]
     },
     "execution_count": 33,
     "metadata": {},
     "output_type": "execute_result"
    }
   ],
   "source": [
    "from scipy.stats import ttest_rel\n",
    "STEST= dataset[dataset['degree_t']=='Sci&Tech']['etest_p']\n",
    "SMBA= dataset[dataset['degree_t']=='Sci&Tech']['mba_p']\n",
    "ttest_rel(STEST,SMBA)"
   ]
  },
  {
   "cell_type": "code",
   "execution_count": 34,
   "id": "6287a83b-c803-4b1c-a163-486995ad584d",
   "metadata": {},
   "outputs": [],
   "source": [
    "#Statement: mean of STEST and SMBA is same\n",
    "#NULL HYPOTHESIS : mean ofthe marks bw STEST AND SMBA IS not same\n",
    "# Here pvalue is greater that 5% so accept null hypothesis"
   ]
  },
  {
   "cell_type": "code",
   "execution_count": 37,
   "id": "9e91d7cd-60fa-4fa8-a8d7-3385fa3cb11c",
   "metadata": {},
   "outputs": [
    {
     "data": {
      "text/html": [
       "<div>\n",
       "<style scoped>\n",
       "    .dataframe tbody tr th:only-of-type {\n",
       "        vertical-align: middle;\n",
       "    }\n",
       "\n",
       "    .dataframe tbody tr th {\n",
       "        vertical-align: top;\n",
       "    }\n",
       "\n",
       "    .dataframe thead th {\n",
       "        text-align: right;\n",
       "    }\n",
       "</style>\n",
       "<table border=\"1\" class=\"dataframe\">\n",
       "  <thead>\n",
       "    <tr style=\"text-align: right;\">\n",
       "      <th></th>\n",
       "      <th>sl_no</th>\n",
       "      <th>ssc_p</th>\n",
       "      <th>hsc_p</th>\n",
       "      <th>degree_p</th>\n",
       "      <th>etest_p</th>\n",
       "      <th>mba_p</th>\n",
       "      <th>salary</th>\n",
       "    </tr>\n",
       "  </thead>\n",
       "  <tbody>\n",
       "    <tr>\n",
       "      <th>count</th>\n",
       "      <td>215.000000</td>\n",
       "      <td>215.000000</td>\n",
       "      <td>215.000000</td>\n",
       "      <td>215.000000</td>\n",
       "      <td>215.000000</td>\n",
       "      <td>215.000000</td>\n",
       "      <td>215.000000</td>\n",
       "    </tr>\n",
       "    <tr>\n",
       "      <th>mean</th>\n",
       "      <td>108.000000</td>\n",
       "      <td>67.303395</td>\n",
       "      <td>66.333163</td>\n",
       "      <td>66.370186</td>\n",
       "      <td>72.100558</td>\n",
       "      <td>62.278186</td>\n",
       "      <td>198702.325581</td>\n",
       "    </tr>\n",
       "    <tr>\n",
       "      <th>std</th>\n",
       "      <td>62.209324</td>\n",
       "      <td>10.827205</td>\n",
       "      <td>10.897509</td>\n",
       "      <td>7.358743</td>\n",
       "      <td>13.275956</td>\n",
       "      <td>5.833385</td>\n",
       "      <td>154780.926716</td>\n",
       "    </tr>\n",
       "    <tr>\n",
       "      <th>min</th>\n",
       "      <td>1.000000</td>\n",
       "      <td>40.890000</td>\n",
       "      <td>37.000000</td>\n",
       "      <td>50.000000</td>\n",
       "      <td>50.000000</td>\n",
       "      <td>51.210000</td>\n",
       "      <td>0.000000</td>\n",
       "    </tr>\n",
       "    <tr>\n",
       "      <th>25%</th>\n",
       "      <td>54.500000</td>\n",
       "      <td>60.600000</td>\n",
       "      <td>60.900000</td>\n",
       "      <td>61.000000</td>\n",
       "      <td>60.000000</td>\n",
       "      <td>57.945000</td>\n",
       "      <td>0.000000</td>\n",
       "    </tr>\n",
       "    <tr>\n",
       "      <th>50%</th>\n",
       "      <td>108.000000</td>\n",
       "      <td>67.000000</td>\n",
       "      <td>65.000000</td>\n",
       "      <td>66.000000</td>\n",
       "      <td>71.000000</td>\n",
       "      <td>62.000000</td>\n",
       "      <td>240000.000000</td>\n",
       "    </tr>\n",
       "    <tr>\n",
       "      <th>75%</th>\n",
       "      <td>161.500000</td>\n",
       "      <td>75.700000</td>\n",
       "      <td>73.000000</td>\n",
       "      <td>72.000000</td>\n",
       "      <td>83.500000</td>\n",
       "      <td>66.255000</td>\n",
       "      <td>282500.000000</td>\n",
       "    </tr>\n",
       "    <tr>\n",
       "      <th>max</th>\n",
       "      <td>215.000000</td>\n",
       "      <td>89.400000</td>\n",
       "      <td>97.700000</td>\n",
       "      <td>91.000000</td>\n",
       "      <td>98.000000</td>\n",
       "      <td>77.890000</td>\n",
       "      <td>940000.000000</td>\n",
       "    </tr>\n",
       "  </tbody>\n",
       "</table>\n",
       "</div>"
      ],
      "text/plain": [
       "            sl_no       ssc_p       hsc_p    degree_p     etest_p       mba_p  \\\n",
       "count  215.000000  215.000000  215.000000  215.000000  215.000000  215.000000   \n",
       "mean   108.000000   67.303395   66.333163   66.370186   72.100558   62.278186   \n",
       "std     62.209324   10.827205   10.897509    7.358743   13.275956    5.833385   \n",
       "min      1.000000   40.890000   37.000000   50.000000   50.000000   51.210000   \n",
       "25%     54.500000   60.600000   60.900000   61.000000   60.000000   57.945000   \n",
       "50%    108.000000   67.000000   65.000000   66.000000   71.000000   62.000000   \n",
       "75%    161.500000   75.700000   73.000000   72.000000   83.500000   66.255000   \n",
       "max    215.000000   89.400000   97.700000   91.000000   98.000000   77.890000   \n",
       "\n",
       "              salary  \n",
       "count     215.000000  \n",
       "mean   198702.325581  \n",
       "std    154780.926716  \n",
       "min         0.000000  \n",
       "25%         0.000000  \n",
       "50%    240000.000000  \n",
       "75%    282500.000000  \n",
       "max    940000.000000  "
      ]
     },
     "execution_count": 37,
     "metadata": {},
     "output_type": "execute_result"
    }
   ],
   "source": [
    "dataset.describe()"
   ]
  },
  {
   "cell_type": "code",
   "execution_count": 39,
   "id": "cc8fc347-cf60-4463-8f6e-8065d00d74fd",
   "metadata": {},
   "outputs": [
    {
     "data": {
      "text/plain": [
       "sl_no             float64\n",
       "ssc_p             float64\n",
       "hsc_p             float64\n",
       "degree_p          float64\n",
       "etest_p           float64\n",
       "mba_p             float64\n",
       "salary            float64\n",
       "gender             object\n",
       "ssc_b              object\n",
       "hsc_b              object\n",
       "hsc_s              object\n",
       "degree_t           object\n",
       "workex             object\n",
       "specialisation     object\n",
       "status             object\n",
       "dtype: object"
      ]
     },
     "execution_count": 39,
     "metadata": {},
     "output_type": "execute_result"
    }
   ],
   "source": [
    "# 1.13 -- 12) which parameter is highly correlated with salary\n",
    "dataset.dtypes"
   ]
  },
  {
   "cell_type": "code",
   "execution_count": 43,
   "id": "c354e439-10ab-4f9a-8dcc-0c6c78598d46",
   "metadata": {},
   "outputs": [],
   "source": [
    "quan=[]\n",
    "for column in dataset.columns:\n",
    "    if(dataset[column].dtype==float):\n",
    "     quan.append(column)"
   ]
  },
  {
   "cell_type": "code",
   "execution_count": 44,
   "id": "80c6fb80-a808-4ecd-adb4-705bc9194674",
   "metadata": {},
   "outputs": [
    {
     "data": {
      "text/plain": [
       "['sl_no', 'ssc_p', 'hsc_p', 'degree_p', 'etest_p', 'mba_p', 'salary']"
      ]
     },
     "execution_count": 44,
     "metadata": {},
     "output_type": "execute_result"
    }
   ],
   "source": [
    "quan"
   ]
  },
  {
   "cell_type": "code",
   "execution_count": 45,
   "id": "762500d2-8da3-487e-9126-92bab9e867dd",
   "metadata": {},
   "outputs": [
    {
     "data": {
      "text/html": [
       "<div>\n",
       "<style scoped>\n",
       "    .dataframe tbody tr th:only-of-type {\n",
       "        vertical-align: middle;\n",
       "    }\n",
       "\n",
       "    .dataframe tbody tr th {\n",
       "        vertical-align: top;\n",
       "    }\n",
       "\n",
       "    .dataframe thead th {\n",
       "        text-align: right;\n",
       "    }\n",
       "</style>\n",
       "<table border=\"1\" class=\"dataframe\">\n",
       "  <thead>\n",
       "    <tr style=\"text-align: right;\">\n",
       "      <th></th>\n",
       "      <th>sl_no</th>\n",
       "      <th>ssc_p</th>\n",
       "      <th>hsc_p</th>\n",
       "      <th>degree_p</th>\n",
       "      <th>etest_p</th>\n",
       "      <th>mba_p</th>\n",
       "      <th>salary</th>\n",
       "    </tr>\n",
       "  </thead>\n",
       "  <tbody>\n",
       "    <tr>\n",
       "      <th>sl_no</th>\n",
       "      <td>1.000000</td>\n",
       "      <td>-0.078155</td>\n",
       "      <td>-0.085711</td>\n",
       "      <td>-0.088281</td>\n",
       "      <td>0.063636</td>\n",
       "      <td>0.022327</td>\n",
       "      <td>0.002543</td>\n",
       "    </tr>\n",
       "    <tr>\n",
       "      <th>ssc_p</th>\n",
       "      <td>-0.078155</td>\n",
       "      <td>1.000000</td>\n",
       "      <td>0.511472</td>\n",
       "      <td>0.538404</td>\n",
       "      <td>0.261993</td>\n",
       "      <td>0.388478</td>\n",
       "      <td>0.538090</td>\n",
       "    </tr>\n",
       "    <tr>\n",
       "      <th>hsc_p</th>\n",
       "      <td>-0.085711</td>\n",
       "      <td>0.511472</td>\n",
       "      <td>1.000000</td>\n",
       "      <td>0.434206</td>\n",
       "      <td>0.245113</td>\n",
       "      <td>0.354823</td>\n",
       "      <td>0.452569</td>\n",
       "    </tr>\n",
       "    <tr>\n",
       "      <th>degree_p</th>\n",
       "      <td>-0.088281</td>\n",
       "      <td>0.538404</td>\n",
       "      <td>0.434206</td>\n",
       "      <td>1.000000</td>\n",
       "      <td>0.224470</td>\n",
       "      <td>0.402364</td>\n",
       "      <td>0.408371</td>\n",
       "    </tr>\n",
       "    <tr>\n",
       "      <th>etest_p</th>\n",
       "      <td>0.063636</td>\n",
       "      <td>0.261993</td>\n",
       "      <td>0.245113</td>\n",
       "      <td>0.224470</td>\n",
       "      <td>1.000000</td>\n",
       "      <td>0.218055</td>\n",
       "      <td>0.186988</td>\n",
       "    </tr>\n",
       "    <tr>\n",
       "      <th>mba_p</th>\n",
       "      <td>0.022327</td>\n",
       "      <td>0.388478</td>\n",
       "      <td>0.354823</td>\n",
       "      <td>0.402364</td>\n",
       "      <td>0.218055</td>\n",
       "      <td>1.000000</td>\n",
       "      <td>0.139823</td>\n",
       "    </tr>\n",
       "    <tr>\n",
       "      <th>salary</th>\n",
       "      <td>0.002543</td>\n",
       "      <td>0.538090</td>\n",
       "      <td>0.452569</td>\n",
       "      <td>0.408371</td>\n",
       "      <td>0.186988</td>\n",
       "      <td>0.139823</td>\n",
       "      <td>1.000000</td>\n",
       "    </tr>\n",
       "  </tbody>\n",
       "</table>\n",
       "</div>"
      ],
      "text/plain": [
       "             sl_no     ssc_p     hsc_p  degree_p   etest_p     mba_p    salary\n",
       "sl_no     1.000000 -0.078155 -0.085711 -0.088281  0.063636  0.022327  0.002543\n",
       "ssc_p    -0.078155  1.000000  0.511472  0.538404  0.261993  0.388478  0.538090\n",
       "hsc_p    -0.085711  0.511472  1.000000  0.434206  0.245113  0.354823  0.452569\n",
       "degree_p -0.088281  0.538404  0.434206  1.000000  0.224470  0.402364  0.408371\n",
       "etest_p   0.063636  0.261993  0.245113  0.224470  1.000000  0.218055  0.186988\n",
       "mba_p     0.022327  0.388478  0.354823  0.402364  0.218055  1.000000  0.139823\n",
       "salary    0.002543  0.538090  0.452569  0.408371  0.186988  0.139823  1.000000"
      ]
     },
     "execution_count": 45,
     "metadata": {},
     "output_type": "execute_result"
    }
   ],
   "source": [
    "dataset[quan].corr()"
   ]
  },
  {
   "cell_type": "code",
   "execution_count": null,
   "id": "f7896f66-10c4-4a5f-bdb2-538bae41f109",
   "metadata": {},
   "outputs": [],
   "source": [
    "# From the above correlation table we could see SSC_P is more correlated with salary; r= 0.54"
   ]
  },
  {
   "cell_type": "code",
   "execution_count": null,
   "id": "cb2fd02d-4fc8-44c2-9a07-bb2de7c4113c",
   "metadata": {},
   "outputs": [],
   "source": [
    "#1.14 -- 13) Plot any useful graph and explain it."
   ]
  },
  {
   "cell_type": "code",
   "execution_count": 46,
   "id": "130c0200-abf9-4b67-9845-c997d1c2353b",
   "metadata": {},
   "outputs": [
    {
     "data": {
      "image/png": "[encoded data removed]",
      "text/plain": [
       "<Figure size 640x480 with 2 Axes>"
      ]
     },
     "metadata": {},
     "output_type": "display_data"
    }
   ],
   "source": [
    "import matplotlib.pyplot as plt\n",
    "sns.heatmap( dataset[quan].corr(),annot=True)\n",
    "plt.show()"
   ]
  },
  {
   "cell_type": "code",
   "execution_count": null,
   "id": "6a89be3b-8a86-4d5b-977e-d227bfd4d94d",
   "metadata": {},
   "outputs": [],
   "source": [
    "# From the above plot we could see the amount of correlation of different columns with respect to salary."
   ]
  }
 ],
 "metadata": {
  "kernelspec": {
   "display_name": "Python 3 (ipykernel)",
   "language": "python",
   "name": "python3"
  },
  "language_info": {
   "codemirror_mode": {
    "name": "ipython",
    "version": 3
   },
   "file_extension": ".py",
   "mimetype": "text/x-python",
   "name": "python",
   "nbconvert_exporter": "python",
   "pygments_lexer": "ipython3",
   "version": "3.10.15"
  }
 },
 "nbformat": 4,
 "nbformat_minor": 5
}
